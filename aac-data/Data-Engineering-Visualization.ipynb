{
 "cells": [
  {
   "attachments": {},
   "cell_type": "markdown",
   "id": "64a2db26",
   "metadata": {},
   "source": [
    "### Data Engineering"
   ]
  },
  {
   "cell_type": "code",
   "execution_count": 1,
   "id": "98b71f44",
   "metadata": {},
   "outputs": [],
   "source": [
    "import pandas as pd\n",
    "import json as json\n",
    "import glob as glob"
   ]
  },
  {
   "cell_type": "code",
   "execution_count": 2,
   "id": "cb82f7df",
   "metadata": {},
   "outputs": [],
   "source": [
    "files= glob.glob(\"data/*.json\")"
   ]
  },
  {
   "cell_type": "code",
   "execution_count": 3,
   "id": "35a8b2b4",
   "metadata": {},
   "outputs": [
    {
     "data": {
      "text/plain": [
       "['data/8_4.json',\n",
       " 'data/8_8.json',\n",
       " 'data/8_9.json',\n",
       " 'data/9_11.json',\n",
       " 'data/8_10.json',\n",
       " 'data/9_7.json',\n",
       " 'data/9_10.json',\n",
       " 'data/6_16.json',\n",
       " 'data/9_8.json',\n",
       " 'data/9_4.json',\n",
       " 'data/9_13.json',\n",
       " 'data/9_12.json',\n",
       " 'data/9_5.json',\n",
       " 'data/9_9.json',\n",
       " 'data/9_2.json',\n",
       " 'data/8_14.json',\n",
       " 'data/6_11.json',\n",
       " 'data/8_15.json',\n",
       " 'data/8_7.json']"
      ]
     },
     "execution_count": 3,
     "metadata": {},
     "output_type": "execute_result"
    }
   ],
   "source": [
    "files"
   ]
  },
  {
   "cell_type": "code",
   "execution_count": 4,
   "id": "252edd1f",
   "metadata": {},
   "outputs": [
    {
     "data": {
      "text/plain": [
       "'8_8.json'"
      ]
     },
     "execution_count": 4,
     "metadata": {},
     "output_type": "execute_result"
    }
   ],
   "source": [
    "files[1].split(\"/\")[1]"
   ]
  },
  {
   "cell_type": "code",
   "execution_count": 5,
   "id": "92308db3",
   "metadata": {},
   "outputs": [],
   "source": [
    "for i,file in enumerate(files):\n",
    "    with open(file, 'r') as f:\n",
    "        data = json.load(f)\n",
    "        if i ==0:\n",
    "            df = pd.DataFrame(data)\n",
    "        else:\n",
    "            idf = pd.DataFrame(data)\n",
    "            df = pd.concat([df,idf])"
   ]
  },
  {
   "cell_type": "code",
   "execution_count": null,
   "id": "dc961362",
   "metadata": {},
   "outputs": [
    {
     "data": {
      "text/plain": [
       "(59623, 10)"
      ]
     },
     "execution_count": 6,
     "metadata": {},
     "output_type": "execute_result"
    }
   ],
   "source": [
    "df.shape"
   ]
  },
  {
   "cell_type": "code",
   "execution_count": null,
   "id": "00f20b70",
   "metadata": {},
   "outputs": [],
   "source": [
    "df.to_csv(\"alldata.csv\")"
   ]
  },
  {
   "cell_type": "code",
   "execution_count": 8,
   "id": "5c3fb45c",
   "metadata": {},
   "outputs": [
    {
     "data": {
      "text/plain": [
       "15455"
      ]
     },
     "execution_count": 8,
     "metadata": {},
     "output_type": "execute_result"
    }
   ],
   "source": [
    "IDs= df['Uniprot_AC'].unique()\n",
    "len(IDs)\n"
   ]
  },
  {
   "cell_type": "code",
   "execution_count": 29,
   "id": "97f64a54",
   "metadata": {},
   "outputs": [
    {
     "data": {
      "text/plain": [
       "array(['Q61598', 'Q9QXS1', 'P11983', ..., 'D3Z656', 'E9Q7S0', 'F7BQW7'],\n",
       "      dtype=object)"
      ]
     },
     "execution_count": 29,
     "metadata": {},
     "output_type": "execute_result"
    }
   ],
   "source": [
    "IDs"
   ]
  },
  {
   "cell_type": "code",
   "execution_count": 30,
   "id": "60509465",
   "metadata": {
    "scrolled": false
   },
   "outputs": [],
   "source": [
    "import pandas as pd, requests\n",
    "import json\n",
    "\n",
    "\n",
    "def get_short_full_names(names, section_key, section_values):\n",
    "    '''\n",
    "    FUNCTION:\n",
    "    - Get all names from an entry\n",
    "    \n",
    "    PARAMS:\n",
    "    - names (list)\n",
    "    '''\n",
    "    # Full name\n",
    "    if section_key == 'fullName':\n",
    "        name = section_values['value']\n",
    "        names.append(name)\n",
    "\n",
    "    # Short names\n",
    "    if section_key == 'shortNames':\n",
    "        for entry in section_values:\n",
    "            name = entry['value']\n",
    "            names.append(name)  \n",
    "            \n",
    "    # EC Numbers\n",
    "    if section_key == 'ecNumbers':\n",
    "         for entry in section_values:\n",
    "            name = entry['value']\n",
    "            names.append(name) \n",
    "            \n",
    "    return names"
   ]
  },
  {
   "cell_type": "code",
   "execution_count": null,
   "id": "4efcf220",
   "metadata": {},
   "outputs": [],
   "source": [
    "id2names = dict()\n",
    "for key,value in id2syns.items():\n",
    "    #print(key,value)\n",
    "    id2names[key] = value[0]"
   ]
  },
  {
   "cell_type": "code",
   "execution_count": null,
   "id": "87dc7c5f",
   "metadata": {},
   "outputs": [],
   "source": [
    "id2names"
   ]
  },
  {
   "cell_type": "code",
   "execution_count": null,
   "id": "b8394331",
   "metadata": {},
   "outputs": [],
   "source": [
    "df['pname'] = df['Uniprot_AC'].map(id2names)"
   ]
  },
  {
   "cell_type": "code",
   "execution_count": 9,
   "id": "746a8a92",
   "metadata": {},
   "outputs": [
    {
     "data": {
      "text/html": [
       "<div>\n",
       "<style scoped>\n",
       "    .dataframe tbody tr th:only-of-type {\n",
       "        vertical-align: middle;\n",
       "    }\n",
       "\n",
       "    .dataframe tbody tr th {\n",
       "        vertical-align: top;\n",
       "    }\n",
       "\n",
       "    .dataframe thead th {\n",
       "        text-align: right;\n",
       "    }\n",
       "</style>\n",
       "<table border=\"1\" class=\"dataframe\">\n",
       "  <thead>\n",
       "    <tr style=\"text-align: right;\">\n",
       "      <th></th>\n",
       "      <th>Organism</th>\n",
       "      <th>Uniprot_AC</th>\n",
       "      <th>position</th>\n",
       "      <th>standard_seq</th>\n",
       "      <th>PTM_Catalogy</th>\n",
       "      <th>PTM_Type</th>\n",
       "      <th>ref</th>\n",
       "      <th>cell_line</th>\n",
       "      <th>Identification_Strategy</th>\n",
       "      <th>Identification_Technique</th>\n",
       "    </tr>\n",
       "  </thead>\n",
       "  <tbody>\n",
       "    <tr>\n",
       "      <th>0</th>\n",
       "      <td>Mus musculus</td>\n",
       "      <td>Q61598</td>\n",
       "      <td>317</td>\n",
       "      <td>EKVGQVIRVICILSHPIKNTNDANSCQIIIPQNQVNRKSDIYVCMI...</td>\n",
       "      <td>Oxidation PTM</td>\n",
       "      <td>S-nitrosylation</td>\n",
       "      <td>28710281</td>\n",
       "      <td>Ischemia heart cells</td>\n",
       "      <td>Thiol isotope labeling</td>\n",
       "      <td>SNOxICAT</td>\n",
       "    </tr>\n",
       "    <tr>\n",
       "      <th>1</th>\n",
       "      <td>Mus musculus</td>\n",
       "      <td>Q61598</td>\n",
       "      <td>414</td>\n",
       "      <td>PKDLGTDSQIFISRAYDATTHFETTCDDIKDIYKRMTGSEFDFEEM...</td>\n",
       "      <td>Oxidation PTM</td>\n",
       "      <td>S-nitrosylation</td>\n",
       "      <td>28710281</td>\n",
       "      <td>Ischemia heart cells</td>\n",
       "      <td>Thiol isotope labeling</td>\n",
       "      <td>SNOxICAT</td>\n",
       "    </tr>\n",
       "    <tr>\n",
       "      <th>2</th>\n",
       "      <td>Mus musculus</td>\n",
       "      <td>Q61598</td>\n",
       "      <td>302</td>\n",
       "      <td>CKQLICDPSYVKDRVEKVGQVIRVICILSHPIKNTNDANSCQIIIP...</td>\n",
       "      <td>Oxidation PTM</td>\n",
       "      <td>S-nitrosylation</td>\n",
       "      <td>28710281</td>\n",
       "      <td>Ischemia heart cells</td>\n",
       "      <td>Thiol isotope labeling</td>\n",
       "      <td>SNOxICAT</td>\n",
       "    </tr>\n",
       "    <tr>\n",
       "      <th>3</th>\n",
       "      <td>Mus musculus</td>\n",
       "      <td>Q9QXS1</td>\n",
       "      <td>4078</td>\n",
       "      <td>LQLQEGLTSIEEVTKNLQKFLEGTSCIAGVFVDATKERLSVYQAMK...</td>\n",
       "      <td>Oxidation PTM</td>\n",
       "      <td>S-nitrosylation</td>\n",
       "      <td>28710281</td>\n",
       "      <td>Ischemia heart cells</td>\n",
       "      <td>Thiol isotope labeling</td>\n",
       "      <td>SNOxICAT</td>\n",
       "    </tr>\n",
       "    <tr>\n",
       "      <th>4</th>\n",
       "      <td>Mus musculus</td>\n",
       "      <td>Q9QXS1</td>\n",
       "      <td>958</td>\n",
       "      <td>AKAIVQLKPRNPAHPVRGHVPLIAVCDYKQVEVTVHKGDQCQLVGP...</td>\n",
       "      <td>Oxidation PTM</td>\n",
       "      <td>S-nitrosylation</td>\n",
       "      <td>28710281</td>\n",
       "      <td>Ischemia heart cells</td>\n",
       "      <td>Thiol isotope labeling</td>\n",
       "      <td>SNOxICAT</td>\n",
       "    </tr>\n",
       "    <tr>\n",
       "      <th>...</th>\n",
       "      <td>...</td>\n",
       "      <td>...</td>\n",
       "      <td>...</td>\n",
       "      <td>...</td>\n",
       "      <td>...</td>\n",
       "      <td>...</td>\n",
       "      <td>...</td>\n",
       "      <td>...</td>\n",
       "      <td>...</td>\n",
       "      <td>...</td>\n",
       "    </tr>\n",
       "    <tr>\n",
       "      <th>3968</th>\n",
       "      <td>Mus musculus</td>\n",
       "      <td>D6REF3</td>\n",
       "      <td>98</td>\n",
       "      <td>KGGEDKLKMIREYRQMVETELKLICCDILDVLDKHLIPAANTGWQK...</td>\n",
       "      <td>Lipid PTM</td>\n",
       "      <td>S-palmitoylation</td>\n",
       "      <td>28680068</td>\n",
       "      <td>Forebrain cells</td>\n",
       "      <td>Thiol blocking</td>\n",
       "      <td>ABE</td>\n",
       "    </tr>\n",
       "    <tr>\n",
       "      <th>3969</th>\n",
       "      <td>Mus musculus</td>\n",
       "      <td>D3Z656</td>\n",
       "      <td>1091</td>\n",
       "      <td>LPQHLQPSSSSGLGTSPSSSPRTSPCQSPTVPEYSAPSLPIRPSRA...</td>\n",
       "      <td>Lipid PTM</td>\n",
       "      <td>S-palmitoylation</td>\n",
       "      <td>28680068</td>\n",
       "      <td>Forebrain cells</td>\n",
       "      <td>Thiol blocking</td>\n",
       "      <td>ABE</td>\n",
       "    </tr>\n",
       "    <tr>\n",
       "      <th>3970</th>\n",
       "      <td>Mus musculus</td>\n",
       "      <td>E9Q7S0</td>\n",
       "      <td>1051</td>\n",
       "      <td>LPQHLQPSSSSGLGTSPSSSPRTSPCQSPTVPEYSAPSLPIRPSRA...</td>\n",
       "      <td>Lipid PTM</td>\n",
       "      <td>S-palmitoylation</td>\n",
       "      <td>28680068</td>\n",
       "      <td>Forebrain cells</td>\n",
       "      <td>Thiol blocking</td>\n",
       "      <td>ABE</td>\n",
       "    </tr>\n",
       "    <tr>\n",
       "      <th>3971</th>\n",
       "      <td>Mus musculus</td>\n",
       "      <td>F7BQW7</td>\n",
       "      <td>1066</td>\n",
       "      <td>LPQHLQPSSSSGLGTSPSSSPRTSPCQSPTVPEYSAPSLPIRPSRA...</td>\n",
       "      <td>Lipid PTM</td>\n",
       "      <td>S-palmitoylation</td>\n",
       "      <td>28680068</td>\n",
       "      <td>Forebrain cells</td>\n",
       "      <td>Thiol blocking</td>\n",
       "      <td>ABE</td>\n",
       "    </tr>\n",
       "    <tr>\n",
       "      <th>3972</th>\n",
       "      <td>Mus musculus</td>\n",
       "      <td>Q8CHC4</td>\n",
       "      <td>1051</td>\n",
       "      <td>LPQHLQPSSSSGLGTSPSSSPRTSPCQSPTVPEYSAPSLPIRPSRA...</td>\n",
       "      <td>Lipid PTM</td>\n",
       "      <td>S-palmitoylation</td>\n",
       "      <td>28680068</td>\n",
       "      <td>Forebrain cells</td>\n",
       "      <td>Thiol blocking</td>\n",
       "      <td>ABE</td>\n",
       "    </tr>\n",
       "  </tbody>\n",
       "</table>\n",
       "<p>59623 rows × 10 columns</p>\n",
       "</div>"
      ],
      "text/plain": [
       "          Organism Uniprot_AC  position  \\\n",
       "0     Mus musculus     Q61598       317   \n",
       "1     Mus musculus     Q61598       414   \n",
       "2     Mus musculus     Q61598       302   \n",
       "3     Mus musculus     Q9QXS1      4078   \n",
       "4     Mus musculus     Q9QXS1       958   \n",
       "...            ...        ...       ...   \n",
       "3968  Mus musculus     D6REF3        98   \n",
       "3969  Mus musculus     D3Z656      1091   \n",
       "3970  Mus musculus     E9Q7S0      1051   \n",
       "3971  Mus musculus     F7BQW7      1066   \n",
       "3972  Mus musculus     Q8CHC4      1051   \n",
       "\n",
       "                                           standard_seq   PTM_Catalogy  \\\n",
       "0     EKVGQVIRVICILSHPIKNTNDANSCQIIIPQNQVNRKSDIYVCMI...  Oxidation PTM   \n",
       "1     PKDLGTDSQIFISRAYDATTHFETTCDDIKDIYKRMTGSEFDFEEM...  Oxidation PTM   \n",
       "2     CKQLICDPSYVKDRVEKVGQVIRVICILSHPIKNTNDANSCQIIIP...  Oxidation PTM   \n",
       "3     LQLQEGLTSIEEVTKNLQKFLEGTSCIAGVFVDATKERLSVYQAMK...  Oxidation PTM   \n",
       "4     AKAIVQLKPRNPAHPVRGHVPLIAVCDYKQVEVTVHKGDQCQLVGP...  Oxidation PTM   \n",
       "...                                                 ...            ...   \n",
       "3968  KGGEDKLKMIREYRQMVETELKLICCDILDVLDKHLIPAANTGWQK...      Lipid PTM   \n",
       "3969  LPQHLQPSSSSGLGTSPSSSPRTSPCQSPTVPEYSAPSLPIRPSRA...      Lipid PTM   \n",
       "3970  LPQHLQPSSSSGLGTSPSSSPRTSPCQSPTVPEYSAPSLPIRPSRA...      Lipid PTM   \n",
       "3971  LPQHLQPSSSSGLGTSPSSSPRTSPCQSPTVPEYSAPSLPIRPSRA...      Lipid PTM   \n",
       "3972  LPQHLQPSSSSGLGTSPSSSPRTSPCQSPTVPEYSAPSLPIRPSRA...      Lipid PTM   \n",
       "\n",
       "              PTM_Type       ref             cell_line  \\\n",
       "0      S-nitrosylation  28710281  Ischemia heart cells   \n",
       "1      S-nitrosylation  28710281  Ischemia heart cells   \n",
       "2      S-nitrosylation  28710281  Ischemia heart cells   \n",
       "3      S-nitrosylation  28710281  Ischemia heart cells   \n",
       "4      S-nitrosylation  28710281  Ischemia heart cells   \n",
       "...                ...       ...                   ...   \n",
       "3968  S-palmitoylation  28680068       Forebrain cells   \n",
       "3969  S-palmitoylation  28680068       Forebrain cells   \n",
       "3970  S-palmitoylation  28680068       Forebrain cells   \n",
       "3971  S-palmitoylation  28680068       Forebrain cells   \n",
       "3972  S-palmitoylation  28680068       Forebrain cells   \n",
       "\n",
       "     Identification_Strategy Identification_Technique  \n",
       "0     Thiol isotope labeling                 SNOxICAT  \n",
       "1     Thiol isotope labeling                 SNOxICAT  \n",
       "2     Thiol isotope labeling                 SNOxICAT  \n",
       "3     Thiol isotope labeling                 SNOxICAT  \n",
       "4     Thiol isotope labeling                 SNOxICAT  \n",
       "...                      ...                      ...  \n",
       "3968          Thiol blocking                      ABE  \n",
       "3969          Thiol blocking                      ABE  \n",
       "3970          Thiol blocking                      ABE  \n",
       "3971          Thiol blocking                      ABE  \n",
       "3972          Thiol blocking                      ABE  \n",
       "\n",
       "[59623 rows x 10 columns]"
      ]
     },
     "execution_count": 9,
     "metadata": {},
     "output_type": "execute_result"
    }
   ],
   "source": [
    "df"
   ]
  },
  {
   "cell_type": "code",
   "execution_count": 10,
   "id": "d763aa6b",
   "metadata": {},
   "outputs": [
    {
     "name": "stdout",
     "output_type": "stream",
     "text": [
      "<class 'pandas.core.frame.DataFrame'>\n",
      "Int64Index: 59623 entries, 0 to 3972\n",
      "Data columns (total 10 columns):\n",
      " #   Column                    Non-Null Count  Dtype \n",
      "---  ------                    --------------  ----- \n",
      " 0   Organism                  59623 non-null  object\n",
      " 1   Uniprot_AC                59623 non-null  object\n",
      " 2   position                  59623 non-null  int64 \n",
      " 3   standard_seq              59623 non-null  object\n",
      " 4   PTM_Catalogy              59623 non-null  object\n",
      " 5   PTM_Type                  59623 non-null  object\n",
      " 6   ref                       59623 non-null  object\n",
      " 7   cell_line                 59623 non-null  object\n",
      " 8   Identification_Strategy   59623 non-null  object\n",
      " 9   Identification_Technique  59623 non-null  object\n",
      "dtypes: int64(1), object(9)\n",
      "memory usage: 5.0+ MB\n"
     ]
    }
   ],
   "source": [
    "df.info()"
   ]
  },
  {
   "cell_type": "code",
   "execution_count": 11,
   "id": "eeb55e8c",
   "metadata": {},
   "outputs": [
    {
     "data": {
      "text/html": [
       "<div>\n",
       "<style scoped>\n",
       "    .dataframe tbody tr th:only-of-type {\n",
       "        vertical-align: middle;\n",
       "    }\n",
       "\n",
       "    .dataframe tbody tr th {\n",
       "        vertical-align: top;\n",
       "    }\n",
       "\n",
       "    .dataframe thead th {\n",
       "        text-align: right;\n",
       "    }\n",
       "</style>\n",
       "<table border=\"1\" class=\"dataframe\">\n",
       "  <thead>\n",
       "    <tr style=\"text-align: right;\">\n",
       "      <th></th>\n",
       "      <th>Organism</th>\n",
       "      <th>Uniprot_AC</th>\n",
       "      <th>position</th>\n",
       "      <th>standard_seq</th>\n",
       "      <th>PTM_Catalogy</th>\n",
       "      <th>PTM_Type</th>\n",
       "      <th>ref</th>\n",
       "      <th>cell_line</th>\n",
       "      <th>Identification_Strategy</th>\n",
       "      <th>Identification_Technique</th>\n",
       "    </tr>\n",
       "  </thead>\n",
       "  <tbody>\n",
       "    <tr>\n",
       "      <th>0</th>\n",
       "      <td>Mus musculus</td>\n",
       "      <td>Q61598</td>\n",
       "      <td>317</td>\n",
       "      <td>EKVGQVIRVICILSHPIKNTNDANSCQIIIPQNQVNRKSDIYVCMI...</td>\n",
       "      <td>Oxidation PTM</td>\n",
       "      <td>S-nitrosylation</td>\n",
       "      <td>28710281</td>\n",
       "      <td>Ischemia heart cells</td>\n",
       "      <td>Thiol isotope labeling</td>\n",
       "      <td>SNOxICAT</td>\n",
       "    </tr>\n",
       "  </tbody>\n",
       "</table>\n",
       "</div>"
      ],
      "text/plain": [
       "       Organism Uniprot_AC  position  \\\n",
       "0  Mus musculus     Q61598       317   \n",
       "\n",
       "                                        standard_seq   PTM_Catalogy  \\\n",
       "0  EKVGQVIRVICILSHPIKNTNDANSCQIIIPQNQVNRKSDIYVCMI...  Oxidation PTM   \n",
       "\n",
       "          PTM_Type       ref             cell_line Identification_Strategy  \\\n",
       "0  S-nitrosylation  28710281  Ischemia heart cells  Thiol isotope labeling   \n",
       "\n",
       "  Identification_Technique  \n",
       "0                 SNOxICAT  "
      ]
     },
     "execution_count": 11,
     "metadata": {},
     "output_type": "execute_result"
    }
   ],
   "source": [
    "df.head(1)"
   ]
  },
  {
   "cell_type": "code",
   "execution_count": 12,
   "id": "a50d5b14",
   "metadata": {},
   "outputs": [
    {
     "data": {
      "text/html": [
       "<div>\n",
       "<style scoped>\n",
       "    .dataframe tbody tr th:only-of-type {\n",
       "        vertical-align: middle;\n",
       "    }\n",
       "\n",
       "    .dataframe tbody tr th {\n",
       "        vertical-align: top;\n",
       "    }\n",
       "\n",
       "    .dataframe thead th {\n",
       "        text-align: right;\n",
       "    }\n",
       "</style>\n",
       "<table border=\"1\" class=\"dataframe\">\n",
       "  <thead>\n",
       "    <tr style=\"text-align: right;\">\n",
       "      <th></th>\n",
       "      <th>Organism</th>\n",
       "      <th>Uniprot_AC</th>\n",
       "      <th>position</th>\n",
       "      <th>standard_seq</th>\n",
       "      <th>PTM_Catalogy</th>\n",
       "      <th>PTM_Type</th>\n",
       "      <th>ref</th>\n",
       "      <th>cell_line</th>\n",
       "      <th>Identification_Strategy</th>\n",
       "      <th>Identification_Technique</th>\n",
       "    </tr>\n",
       "  </thead>\n",
       "  <tbody>\n",
       "    <tr>\n",
       "      <th>3972</th>\n",
       "      <td>Mus musculus</td>\n",
       "      <td>Q8CHC4</td>\n",
       "      <td>1051</td>\n",
       "      <td>LPQHLQPSSSSGLGTSPSSSPRTSPCQSPTVPEYSAPSLPIRPSRA...</td>\n",
       "      <td>Lipid PTM</td>\n",
       "      <td>S-palmitoylation</td>\n",
       "      <td>28680068</td>\n",
       "      <td>Forebrain cells</td>\n",
       "      <td>Thiol blocking</td>\n",
       "      <td>ABE</td>\n",
       "    </tr>\n",
       "  </tbody>\n",
       "</table>\n",
       "</div>"
      ],
      "text/plain": [
       "          Organism Uniprot_AC  position  \\\n",
       "3972  Mus musculus     Q8CHC4      1051   \n",
       "\n",
       "                                           standard_seq PTM_Catalogy  \\\n",
       "3972  LPQHLQPSSSSGLGTSPSSSPRTSPCQSPTVPEYSAPSLPIRPSRA...    Lipid PTM   \n",
       "\n",
       "              PTM_Type       ref        cell_line Identification_Strategy  \\\n",
       "3972  S-palmitoylation  28680068  Forebrain cells          Thiol blocking   \n",
       "\n",
       "     Identification_Technique  \n",
       "3972                      ABE  "
      ]
     },
     "execution_count": 12,
     "metadata": {},
     "output_type": "execute_result"
    }
   ],
   "source": [
    "df.tail(1)"
   ]
  },
  {
   "cell_type": "code",
   "execution_count": 13,
   "id": "41d69fdf",
   "metadata": {},
   "outputs": [],
   "source": [
    "All_PTM_Type = df['PTM_Type'].unique()"
   ]
  },
  {
   "cell_type": "code",
   "execution_count": 14,
   "id": "e7bc423d",
   "metadata": {},
   "outputs": [
    {
     "name": "stdout",
     "output_type": "stream",
     "text": [
      "['S-nitrosylation' 'S-glutathionylation' 'S-persulfidation'\n",
      " 'S-sulfinylation' 'S-succination' 'S-palmitoylation' 'S-sulfonylation'\n",
      " 'S-prenylation' 'S-disulfidation' 'S-sulfenylation' 'S-carbonylation'\n",
      " 'S-itaconation' 'S-oxidation(nec.)']\n"
     ]
    }
   ],
   "source": [
    "print (All_PTM_Type)"
   ]
  },
  {
   "cell_type": "code",
   "execution_count": 12,
   "id": "a4de1e1d",
   "metadata": {},
   "outputs": [],
   "source": [
    "organism_type = df['Organism'].unique()"
   ]
  },
  {
   "cell_type": "code",
   "execution_count": 59,
   "id": "89bee7d1",
   "metadata": {},
   "outputs": [
    {
     "name": "stdout",
     "output_type": "stream",
     "text": [
      "['Mus musculus' 'Homo sapiens' 'Rattus norvegicus']\n"
     ]
    }
   ],
   "source": [
    "print (organism_type)"
   ]
  },
  {
   "cell_type": "code",
   "execution_count": 13,
   "id": "6e28f4f6",
   "metadata": {},
   "outputs": [
    {
     "data": {
      "text/plain": [
       "Mus musculus         40109\n",
       "Homo sapiens         19336\n",
       "Rattus norvegicus      178\n",
       "Name: Organism, dtype: int64"
      ]
     },
     "execution_count": 13,
     "metadata": {},
     "output_type": "execute_result"
    }
   ],
   "source": [
    "df['Organism'].value_counts()"
   ]
  },
  {
   "cell_type": "code",
   "execution_count": 14,
   "id": "64189126",
   "metadata": {},
   "outputs": [
    {
     "data": {
      "text/plain": [
       "S-oxidation(nec.)      26924\n",
       "S-nitrosylation        10743\n",
       "S-glutathionylation     6556\n",
       "S-palmitoylation        5633\n",
       "S-sulfenylation         3438\n",
       "S-persulfidation        2271\n",
       "S-itaconation           1117\n",
       "S-succination           1024\n",
       "S-carbonylation          657\n",
       "S-disulfidation          607\n",
       "S-sulfinylation          473\n",
       "S-prenylation             91\n",
       "S-sulfonylation           89\n",
       "Name: PTM_Type, dtype: int64"
      ]
     },
     "execution_count": 14,
     "metadata": {},
     "output_type": "execute_result"
    }
   ],
   "source": [
    "df['PTM_Type'].value_counts()"
   ]
  },
  {
   "cell_type": "code",
   "execution_count": 15,
   "id": "2da9e2ce",
   "metadata": {},
   "outputs": [
    {
     "data": {
      "text/plain": [
       "<AxesSubplot:>"
      ]
     },
     "execution_count": 15,
     "metadata": {},
     "output_type": "execute_result"
    },
    {
     "data": {
      "image/png": "[encoded data removed]",
      "text/plain": [
       "<Figure size 640x480 with 1 Axes>"
      ]
     },
     "metadata": {},
     "output_type": "display_data"
    }
   ],
   "source": [
    "df['PTM_Type'].value_counts().plot(kind='bar')"
   ]
  },
  {
   "cell_type": "code",
   "execution_count": 16,
   "id": "a148efa1",
   "metadata": {},
   "outputs": [
    {
     "data": {
      "text/plain": [
       "<AxesSubplot:>"
      ]
     },
     "execution_count": 16,
     "metadata": {},
     "output_type": "execute_result"
    },
    {
     "data": {
      "image/png": "[encoded data removed]",
      "text/plain": [
       "<Figure size 640x480 with 1 Axes>"
      ]
     },
     "metadata": {},
     "output_type": "display_data"
    }
   ],
   "source": [
    "df['Organism'].value_counts().plot(kind='bar')"
   ]
  },
  {
   "cell_type": "code",
   "execution_count": 17,
   "id": "b5f49aeb",
   "metadata": {},
   "outputs": [
    {
     "data": {
      "text/plain": [
       "<AxesSubplot:ylabel='Organism'>"
      ]
     },
     "execution_count": 17,
     "metadata": {},
     "output_type": "execute_result"
    },
    {
     "data": {
      "image/png": "[encoded data removed]",
      "text/plain": [
       "<Figure size 640x480 with 1 Axes>"
      ]
     },
     "metadata": {},
     "output_type": "display_data"
    }
   ],
   "source": [
    "df['Organism'].value_counts().plot(kind='pie')"
   ]
  },
  {
   "cell_type": "code",
   "execution_count": 18,
   "id": "477badf8",
   "metadata": {},
   "outputs": [
    {
     "data": {
      "text/plain": [
       "<AxesSubplot:ylabel='PTM_Type'>"
      ]
     },
     "execution_count": 18,
     "metadata": {},
     "output_type": "execute_result"
    },
    {
     "data": {
      "image/png": "[encoded data removed]",
      "text/plain": [
       "<Figure size 640x480 with 1 Axes>"
      ]
     },
     "metadata": {},
     "output_type": "display_data"
    }
   ],
   "source": [
    "df['PTM_Type'].value_counts().plot(kind='pie')"
   ]
  },
  {
   "cell_type": "code",
   "execution_count": null,
   "id": "95d0ba82",
   "metadata": {},
   "outputs": [],
   "source": [
    "# convert dataframe to dictionary\n",
    "df_dict = df.to_dict(orient='records')"
   ]
  },
  {
   "cell_type": "code",
   "execution_count": null,
   "id": "9f5ccb33",
   "metadata": {},
   "outputs": [
    {
     "data": {
      "text/plain": [
       "{'Organism': 'Mus musculus',\n",
       " 'Uniprot_AC': 'Q61598',\n",
       " 'position': 317,\n",
       " 'standard_seq': 'EKVGQVIRVICILSHPIKNTNDANSCQIIIPQNQVNRKSDIYVCMISFAHN',\n",
       " 'PTM_Catalogy': 'Oxidation PTM',\n",
       " 'PTM_Type': 'S-nitrosylation',\n",
       " 'ref': '28710281',\n",
       " 'cell_line': 'Ischemia heart cells',\n",
       " 'Identification_Strategy': 'Thiol isotope labeling',\n",
       " 'Identification_Technique': 'SNOxICAT'}"
      ]
     },
     "execution_count": 16,
     "metadata": {},
     "output_type": "execute_result"
    }
   ],
   "source": [
    "df_dict[0]"
   ]
  },
  {
   "cell_type": "code",
   "execution_count": null,
   "id": "f0c6cc6d",
   "metadata": {},
   "outputs": [],
   "source": [
    "#save df_dict to json file\n",
    "with open('data.json', 'w') as f:\n",
    "    json.dump(df_dict, f)"
   ]
  },
  {
   "cell_type": "code",
   "execution_count": null,
   "id": "b82a7ddf",
   "metadata": {},
   "outputs": [],
   "source": []
  },
  {
   "cell_type": "code",
   "execution_count": null,
   "id": "7eb0dac2",
   "metadata": {},
   "outputs": [],
   "source": []
  },
  {
   "cell_type": "code",
   "execution_count": null,
   "id": "3962734b",
   "metadata": {},
   "outputs": [],
   "source": []
  },
  {
   "cell_type": "code",
   "execution_count": null,
   "id": "7d23b7bf",
   "metadata": {},
   "outputs": [],
   "source": []
  }
 ],
 "metadata": {
  "kernelspec": {
   "display_name": "base",
   "language": "python",
   "name": "python3"
  },
  "language_info": {
   "codemirror_mode": {
    "name": "ipython",
    "version": 3
   },
   "file_extension": ".py",
   "mimetype": "text/x-python",
   "name": "python",
   "nbconvert_exporter": "python",
   "pygments_lexer": "ipython3",
   "version": "3.9.13"
  },
  "vscode": {
   "interpreter": {
    "hash": "a46d3808ce7f3f92d20203132b60af20d084112e7b3027b56a392bdfd2bca4cb"
   }
  }
 },
 "nbformat": 4,
 "nbformat_minor": 5
}
