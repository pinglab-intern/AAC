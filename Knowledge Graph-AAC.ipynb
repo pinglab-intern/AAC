{
 "cells": [
  {
   "cell_type": "code",
   "execution_count": 51,
   "metadata": {},
   "outputs": [],
   "source": [
    "#! pip install neo4j\n"
   ]
  },
  {
   "attachments": {},
   "cell_type": "markdown",
   "metadata": {},
   "source": [
    "# Creating a knowledge graph in neo4j \n",
    "\n",
    "Here we provide a sample notebook for KG construction with hypothetical graph data where there are 3 typrs of nodes and one relationship. Following are the general steps for KG set up for personal PC:"
   ]
  },
  {
   "attachments": {},
   "cell_type": "markdown",
   "metadata": {},
   "source": [
    "- First download and install the neo4j Desktop on your computer.\n",
    "- Create a new project.\n",
    "- Click on ```ADD``` tab right to the project and add local DBMS. Make sure your user and passwords are noted for future access.\n",
    "- Install ```apoc``` library through plugin.\n",
    "- Open config folder and put provided ```neo4j.config``` and ```apoc.config```.\n",
    "    \ta. Click on the 3 dots on the right of the graph DBMS.\n",
    "\t\tb. Click open\n",
    "\t\tc. Click configuration\n",
    "\t\td. Copy and paste provided neo4j.config and apoc.config there.\n",
    "- Start the graph database\n",
    "- Click open tab of the DBMS to open neo4j Browser.\n",
    "- Install ```anaconda``` python and run ```Jupyter application```\n",
    "- Use this notebook to communicate with graph database"
   ]
  },
  {
   "cell_type": "code",
   "execution_count": 2,
   "metadata": {},
   "outputs": [],
   "source": [
    "import pandas as pd\n",
    "import json\n",
    "import time\n",
    "from neo4j import GraphDatabase"
   ]
  },
  {
   "attachments": {},
   "cell_type": "markdown",
   "metadata": {},
   "source": [
    "#### Make a connection with Graph Database"
   ]
  },
  {
   "cell_type": "code",
   "execution_count": 1,
   "metadata": {},
   "outputs": [],
   "source": [
    "import pandas as pd\n",
    "from neo4j import GraphDatabase\n",
    "driver=GraphDatabase.driver(uri=\"bolt://127.0.0.1:7687\",auth=(\"neo4j\",\"12345678\"))\n",
    "session=driver.session()"
   ]
  },
  {
   "cell_type": "code",
   "execution_count": 3,
   "metadata": {},
   "outputs": [
    {
     "data": {
      "text/plain": [
       "<neo4j._sync.driver.BoltDriver at 0x7fc41b459d90>"
      ]
     },
     "execution_count": 3,
     "metadata": {},
     "output_type": "execute_result"
    }
   ],
   "source": [
    "driver"
   ]
  },
  {
   "attachments": {},
   "cell_type": "markdown",
   "metadata": {},
   "source": [
    "#### Create Constraints for uniqueness of nodes"
   ]
  },
  {
   "cell_type": "code",
   "execution_count": 58,
   "metadata": {},
   "outputs": [],
   "source": [
    "def create_constraints(driver):\n",
    "        '''\n",
    "        Create constraints for nodes in the graph\n",
    "        args:\n",
    "            driver: neo4j driver\n",
    "        returns:\n",
    "            None\n",
    "        '''\n",
    "        query = [\"CREATE CONSTRAINT UniqueOrganismNameConstraint FOR (O:Organism) REQUIRE O.name IS UNIQUE\",\\\n",
    "                \"CREATE CONSTRAINT UniqueProteinIdConstraint FOR (P:Protein) REQUIRE P.UID IS UNIQUE\",\\\n",
    "                \"CREATE CONSTRAINT UniquePTMTypeNameConstraint FOR (PTM:PTM_Type) REQUIRE PTM.name IS UNIQUE\",\\\n",
    "                \"CREATE CONSTRAINT UniqueCellLineNameConstraint FOR (C:cellLine) REQUIRE C.name IS UNIQUE\",\\\n",
    "                \"CREATE CONSTRAINT UniqueReferenceIdConstraint FOR (R:references) REQUIRE R.Pmid IS UNIQUE\",\\\n",
    "                \"CREATE CONSTRAINT UniquePathwayIdConstraint FOR (Pw: Pathway) REQUIRE Pw.ID IS UNIQUE\"]\n",
    "        \n",
    "        query2 = [ \"CREATE CONSTRAINT UniqueLocationConstraint FOR (L:Location) REQUIRE L.LID IS UNIQUE\"]\n",
    "\n",
    "        with driver.session() as session:\n",
    "            for constraint in query2:\n",
    "                session.run(constraint)\n",
    "\n",
    "\n",
    "                "
   ]
  },
  {
   "cell_type": "code",
   "execution_count": 70,
   "metadata": {},
   "outputs": [
    {
     "name": "stdout",
     "output_type": "stream",
     "text": [
      "\n",
      "        Create constraints for nodes in the graph\n",
      "        args:\n",
      "            driver: neo4j driver\n",
      "        returns:\n",
      "            None\n",
      "        \n"
     ]
    }
   ],
   "source": [
    "print(create_constraints.__doc__)"
   ]
  },
  {
   "cell_type": "code",
   "execution_count": 60,
   "metadata": {},
   "outputs": [],
   "source": [
    "'''UNCOMMENT AND RUN THIS CELL ONLY ONCE'''\n",
    "#create_constraints(driver)"
   ]
  },
  {
   "attachments": {},
   "cell_type": "markdown",
   "metadata": {},
   "source": [
    "### Populate Node\n",
    "- There are three arbitrary node types\n",
    "- There are one edge types between nodes."
   ]
  },
  {
   "cell_type": "code",
   "execution_count": 71,
   "metadata": {},
   "outputs": [
    {
     "data": {
      "text/plain": [
       "{'Organism': 'Mus musculus',\n",
       " 'Uniprot_AC': 'Q61598',\n",
       " 'position': 317,\n",
       " 'standard_seq': 'EKVGQVIRVICILSHPIKNTNDANSCQIIIPQNQVNRKSDIYVCMISFAHN',\n",
       " 'PTM_Catalogy': 'Oxidation PTM',\n",
       " 'PTM_Type': 'S-nitrosylation',\n",
       " 'ref': '28710281',\n",
       " 'cell_line': 'Ischemia heart cells',\n",
       " 'Identification_Strategy': 'Thiol isotope labeling',\n",
       " 'Identification_Technique': 'SNOxICAT'}"
      ]
     },
     "execution_count": 71,
     "metadata": {},
     "output_type": "execute_result"
    }
   ],
   "source": [
    "{'Organism': 'Mus musculus',\n",
    " 'Uniprot_AC': 'Q61598',\n",
    " 'position': 317,\n",
    " 'standard_seq': 'EKVGQVIRVICILSHPIKNTNDANSCQIIIPQNQVNRKSDIYVCMISFAHN',\n",
    " 'PTM_Catalogy': 'Oxidation PTM',\n",
    " 'PTM_Type': 'S-nitrosylation',\n",
    " 'ref': '28710281',\n",
    " 'cell_line': 'Ischemia heart cells',\n",
    " 'Identification_Strategy': 'Thiol isotope labeling',\n",
    " 'Identification_Technique': 'SNOxICAT'}"
   ]
  },
  {
   "cell_type": "code",
   "execution_count": 72,
   "metadata": {},
   "outputs": [],
   "source": [
    "def create_organism_node(data):\n",
    "        '''  \n",
    "        Create Organism node in the graph\n",
    "         args:\n",
    "            data: dictionary containing the data for the node\n",
    "        returns:\n",
    "            None\n",
    "        '''\n",
    "        def tx_function(tx,data):\n",
    "            query = \"WITH '\" + data  + \"' as url \\\n",
    "            CALL apoc.load.json(url) YIELD value \\\n",
    "            MERGE (O:Organism{name:value.Organism})\"\n",
    "            \n",
    "            #print(query)\n",
    "            tx.run(query,data=data)\n",
    "        \n",
    "        with driver.session() as session:   \n",
    "            session.execute_write(tx_function,data)\n",
    "            \n",
    "\n",
    "            \n",
    "def create_protein_node(data):\n",
    "        '''\n",
    "        Create Protein node in the graph\n",
    "        args:\n",
    "            data: dictionary containing the data for the node\n",
    "        returns:\n",
    "            None\n",
    "        '''\n",
    "        def tx_function(tx,data):\n",
    "            query = \"WITH '\" + data  + \"' as url \\\n",
    "            CALL apoc.load.json(url) YIELD value \\\n",
    "            MERGE (P:Protein{UID:value.Uniprot_AC})\\\n",
    "            ON CREATE SET P.standard_seq=value.standard_seq,\\\n",
    "            P.position=value.position\"\n",
    "            \n",
    "            #print(query)\n",
    "            tx.run(query,data=data)\n",
    "        \n",
    "        with driver.session() as session:   \n",
    "            session.execute_write(tx_function,data)\n",
    "\n",
    "\n",
    "\n",
    "            \n",
    "def create_ptmtype_node(data):\n",
    "        '''\n",
    "        Create PTM_Type node in the graph\n",
    "        args:\n",
    "            data: dictionary containing the data for the node\n",
    "        returns:\n",
    "            None\n",
    "        '''\n",
    "        def tx_function(tx,data):\n",
    "            query = \"WITH '\" + data  + \"' as url \\\n",
    "            CALL apoc.load.json(url) YIELD value \\\n",
    "            MERGE (PTM:PTM_Type{name:value.PTM_Type})\\\n",
    "            ON CREATE SET PTM.PTM_Catalogy=value.PTM_Catalogy\"\n",
    "            \n",
    "            #print(query)\n",
    "            tx.run(query,data=data)\n",
    "        with driver.session() as session:   \n",
    "            session.execute_write(tx_function,data)\n",
    "\n",
    "\n",
    "            \n",
    "\n",
    "def create_cellline_node(data):\n",
    "        '''\n",
    "        Create cellLine node in the graph\n",
    "        args:\n",
    "            data: dictionary containing the data for the node\n",
    "        returns:\n",
    "            None\n",
    "        '''\n",
    "        def tx_function(tx,data):\n",
    "            query = \"WITH '\" + data  + \"' as url \\\n",
    "            CALL apoc.load.json(url) YIELD value \\\n",
    "            MERGE (C:cellLine{name:value.cell_line})\\\n",
    "            ON CREATE SET C.Identification_Strategy=value.Identification_Strategy,\\\n",
    "            C.Identification_Technique=value.Identification_Technique\"\n",
    "            \n",
    "            #print(query)\n",
    "            tx.run(query,data=data)\n",
    "        with driver.session() as session:   \n",
    "            session.execute_write(tx_function,data)\n",
    "\n",
    "\n",
    "\n",
    "\n",
    "\n",
    "def create_reference_node(data):\n",
    "        '''\n",
    "        Create references node in the graph\n",
    "        args:\n",
    "            data: dictionary containing the data for the node\n",
    "        returns:\n",
    "            None\n",
    "        '''\n",
    "        def tx_function(tx,data):\n",
    "            query = \"WITH '\" + data  + \"' as url \\\n",
    "            CALL apoc.load.json(url) YIELD value \\\n",
    "            MERGE (R:references{Pmid:value.ref})\"\n",
    "            \n",
    "            \n",
    "            #print(query)\n",
    "            tx.run(query,data=data)\n",
    "        \n",
    "        with driver.session() as session:   \n",
    "            session.execute_write(tx_function,data)\n",
    "\n",
    "\n",
    "def create_location_node(data):\n",
    "        '''\n",
    "        Create references node in the graph\n",
    "        args:\n",
    "            data: dictionary containing the data for the node\n",
    "        returns:\n",
    "            None\n",
    "        '''\n",
    "        def tx_function(tx,data):\n",
    "            query = \"WITH '\" + data  + \"' as url \\\n",
    "            CALL apoc.load.json(url) YIELD value \\\n",
    "            MERGE (L:Location{LID:value.LID})\\\n",
    "            ON CREATE SET L.Sequence=value.standard_seq,\\\n",
    "            L.Location=value.position\"\n",
    "            \n",
    "            \n",
    "            #print(query)\n",
    "            tx.run(query,data=data)\n",
    "        \n",
    "        with driver.session() as session:   \n",
    "            session.execute_write(tx_function,data)"
   ]
  },
  {
   "cell_type": "code",
   "execution_count": 73,
   "metadata": {},
   "outputs": [
    {
     "name": "stdout",
     "output_type": "stream",
     "text": [
      "success! total time:  0.29370999336242676\n"
     ]
    }
   ],
   "source": [
    "t1 = time.time()\n",
    "data = \"data.json\"\n",
    "create_organism_node(data)\n",
    "t2 = time.time()\n",
    "print( \"success! total time: \", t2-t1)"
   ]
  },
  {
   "cell_type": "code",
   "execution_count": 74,
   "metadata": {},
   "outputs": [
    {
     "name": "stdout",
     "output_type": "stream",
     "text": [
      "success! total time:  0.5182251930236816\n"
     ]
    }
   ],
   "source": [
    "t1 = time.time()\n",
    "data = \"data.json\"\n",
    "create_protein_node(data)\n",
    "t2 = time.time()\n",
    "print( \"success! total time: \", t2-t1)"
   ]
  },
  {
   "cell_type": "code",
   "execution_count": 75,
   "metadata": {},
   "outputs": [
    {
     "name": "stdout",
     "output_type": "stream",
     "text": [
      "success! total time:  0.23247933387756348\n"
     ]
    }
   ],
   "source": [
    "t1 = time.time()\n",
    "data = \"data.json\"\n",
    "create_ptmtype_node(data)\n",
    "t2 = time.time()\n",
    "print( \"success! total time: \", t2-t1)"
   ]
  },
  {
   "cell_type": "code",
   "execution_count": 76,
   "metadata": {},
   "outputs": [
    {
     "name": "stdout",
     "output_type": "stream",
     "text": [
      "success! total time:  0.23611187934875488\n"
     ]
    }
   ],
   "source": [
    "t1 = time.time()\n",
    "data = \"data.json\"\n",
    "create_cellline_node(data)\n",
    "t2 = time.time()\n",
    "print( \"success! total time: \", t2-t1)"
   ]
  },
  {
   "cell_type": "code",
   "execution_count": 77,
   "metadata": {},
   "outputs": [
    {
     "name": "stdout",
     "output_type": "stream",
     "text": [
      "success! total time:  0.19608235359191895\n"
     ]
    }
   ],
   "source": [
    "t1 = time.time()\n",
    "data = \"data.json\"\n",
    "create_reference_node(data)\n",
    "t2 = time.time()\n",
    "print( \"success! total time: \", t2-t1)"
   ]
  },
  {
   "cell_type": "code",
   "execution_count": 78,
   "metadata": {},
   "outputs": [
    {
     "name": "stdout",
     "output_type": "stream",
     "text": [
      "success! total time:  0.8331589698791504\n"
     ]
    }
   ],
   "source": [
    "t1 = time.time()\n",
    "data = \"data.json\"\n",
    "create_location_node(data)\n",
    "t2 = time.time()\n",
    "print( \"success! total time: \", t2-t1)"
   ]
  },
  {
   "attachments": {},
   "cell_type": "markdown",
   "metadata": {},
   "source": [
    "### Create Edges"
   ]
  },
  {
   "cell_type": "code",
   "execution_count": 81,
   "metadata": {},
   "outputs": [],
   "source": [
    "def create_edge_protein2location(data):\n",
    "        def tx_function(tx,data):\n",
    "            query = \"WITH '\" + data  + \"' as url \\\n",
    "            CALL apoc.load.json(url) YIELD value \\\n",
    "            MATCH (P {UID:value.Uniprot_AC})\\\n",
    "            MATCH (L {LID:value.LID})\\\n",
    "            MERGE (P)-[:HAS_CYSTEINE]->(L)\"\n",
    "\n",
    "            tx.run(query,data=data)\n",
    "        with driver.session() as session:   \n",
    "            session.execute_write(tx_function,data)"
   ]
  },
  {
   "cell_type": "code",
   "execution_count": 82,
   "metadata": {},
   "outputs": [
    {
     "name": "stdout",
     "output_type": "stream",
     "text": [
      "success! total time:  1126.3054032325745\n"
     ]
    }
   ],
   "source": [
    "t1 = time.time()\n",
    "data = \"data.json\"\n",
    "create_edge_protein2location(data)\n",
    "t2 = time.time()\n",
    "print( \"success! total time: \", t2-t1)"
   ]
  },
  {
   "cell_type": "code",
   "execution_count": 4,
   "metadata": {},
   "outputs": [],
   "source": [
    "def create_edge_location2ptm_type(data):\n",
    "        def tx_function(tx,data):\n",
    "            query = \"WITH '\" + data  + \"' as url \\\n",
    "            CALL apoc.load.json(url) YIELD value \\\n",
    "            MATCH (L {LID:value.LID})\\\n",
    "            MATCH (PTM {name:value.PTM_Type})\\\n",
    "            MERGE (L)-[:HAS_PTM_TYPE]->(PTM)\"\n",
    "\n",
    "            tx.run(query,data=data)\n",
    "        with driver.session() as session:   \n",
    "            session.execute_write(tx_function,data)"
   ]
  },
  {
   "cell_type": "code",
   "execution_count": 5,
   "metadata": {},
   "outputs": [
    {
     "name": "stdout",
     "output_type": "stream",
     "text": [
      "success! total time:  1044.7420127391815\n"
     ]
    }
   ],
   "source": [
    "t1=time.time()\n",
    "data = \"data.json\"\n",
    "create_edge_location2ptm_type(data)\n",
    "t2=time.time()\n",
    "print( \"success! total time: \", t2-t1)"
   ]
  },
  {
   "cell_type": "code",
   "execution_count": 6,
   "metadata": {},
   "outputs": [],
   "source": [
    "def create_edge_ptm2cellline(data):\n",
    "        def tx_function(tx,data):\n",
    "            query = \"WITH '\" + data  + \"' as url \\\n",
    "            CALL apoc.load.json(url) YIELD value \\\n",
    "            MATCH (PTM {name:value.PTM_Type})\\\n",
    "            MATCH (C {name:value.cell_line})\\\n",
    "            MERGE (PTM)-[:FROM]->(C)\"\n",
    "\n",
    "            tx.run(query,data=data)\n",
    "        with driver.session() as session:   \n",
    "            session.execute_write(tx_function,data)"
   ]
  },
  {
   "cell_type": "code",
   "execution_count": 7,
   "metadata": {},
   "outputs": [
    {
     "name": "stdout",
     "output_type": "stream",
     "text": [
      "success! total time:  845.1974122524261\n"
     ]
    }
   ],
   "source": [
    "t1=time.time()\n",
    "data = \"data.json\"\n",
    "create_edge_ptm2cellline(data)\n",
    "t2=time.time()\n",
    "print( \"success! total time: \", t2-t1)"
   ]
  },
  {
   "cell_type": "code",
   "execution_count": 8,
   "metadata": {},
   "outputs": [],
   "source": [
    "def create_edge_cellline2reference(data):\n",
    "        def tx_function(tx,data):\n",
    "            query = \"WITH '\" + data  + \"' as url \\\n",
    "            CALL apoc.load.json(url) YIELD value \\\n",
    "            MATCH (C {name:value.cell_line})\\\n",
    "            MATCH (R {Pmid:value.ref})\\\n",
    "            MERGE (C)-[:HAS_REFERENCE]->(R)\"\n",
    "\n",
    "            tx.run(query,data=data)\n",
    "        with driver.session() as session:   \n",
    "            session.execute_write(tx_function,data)"
   ]
  },
  {
   "cell_type": "code",
   "execution_count": 9,
   "metadata": {},
   "outputs": [
    {
     "name": "stdout",
     "output_type": "stream",
     "text": [
      "success! total time:  829.3450391292572\n"
     ]
    }
   ],
   "source": [
    "t1=time.time()\n",
    "data = \"data.json\"\n",
    "create_edge_cellline2reference(data)\n",
    "t2=time.time()\n",
    "print( \"success! total time: \", t2-t1)"
   ]
  },
  {
   "cell_type": "code",
   "execution_count": 10,
   "metadata": {},
   "outputs": [],
   "source": [
    "def create_edge_ptm2reference(data):\n",
    "        def tx_function(tx,data):\n",
    "            query = \"WITH '\" + data  + \"' as url \\\n",
    "            CALL apoc.load.json(url) YIELD value \\\n",
    "            MATCH (PTM {name:value.PTM_Type})\\\n",
    "            MATCH (R {Pmid:value.ref})\\\n",
    "            MERGE (PTM)-[:HAS_REFERENCE]->(R)\"\n",
    "\n",
    "            tx.run(query,data=data)\n",
    "        with driver.session() as session:   \n",
    "            session.execute_write(tx_function,data)"
   ]
  },
  {
   "cell_type": "code",
   "execution_count": 11,
   "metadata": {},
   "outputs": [
    {
     "name": "stdout",
     "output_type": "stream",
     "text": [
      "success! total time:  828.799971818924\n"
     ]
    }
   ],
   "source": [
    "t1=time.time()\n",
    "data = \"data.json\"\n",
    "create_edge_ptm2reference(data)\n",
    "t2=time.time()\n",
    "print( \"success! total time: \", t2-t1)"
   ]
  },
  {
   "cell_type": "code",
   "execution_count": 12,
   "metadata": {},
   "outputs": [],
   "source": [
    "def create_edge_ptm2organism(data):\n",
    "        def tx_function(tx,data):\n",
    "            query = \"WITH '\" + data  + \"' as url \\\n",
    "            CALL apoc.load.json(url) YIELD value \\\n",
    "            MATCH (PTM {name:value.PTM_Type})\\\n",
    "            MATCH (O {name:value.Organism})\\\n",
    "            MERGE (PTM)-[:BELONGS_TO]->(O)\"\n",
    "\n",
    "            tx.run(query,data=data)\n",
    "        with driver.session() as session:   \n",
    "            session.execute_write(tx_function,data)"
   ]
  },
  {
   "cell_type": "code",
   "execution_count": 13,
   "metadata": {},
   "outputs": [
    {
     "name": "stdout",
     "output_type": "stream",
     "text": [
      "success! total time:  848.8454530239105\n"
     ]
    }
   ],
   "source": [
    "t1=time.time()\n",
    "data = \"data.json\"\n",
    "create_edge_ptm2organism(data)\n",
    "t2=time.time()\n",
    "print( \"success! total time: \", t2-t1)"
   ]
  },
  {
   "cell_type": "code",
   "execution_count": 14,
   "metadata": {},
   "outputs": [],
   "source": [
    "def create_edge_protein2organism(data):\n",
    "        def tx_function(tx,data):\n",
    "            query = \"WITH '\" + data  + \"' as url \\\n",
    "            CALL apoc.load.json(url) YIELD value \\\n",
    "            MATCH (P {UID:value.Uniprot_AC})\\\n",
    "            MATCH (O {name:value.Organism})\\\n",
    "            MERGE (P)-[:BELONGS_TO]->(O)\"\n",
    "        \n",
    "\n",
    "            tx.run(query,data=data)\n",
    "        with driver.session() as session:   \n",
    "            session.execute_write(tx_function,data)"
   ]
  },
  {
   "cell_type": "code",
   "execution_count": 15,
   "metadata": {},
   "outputs": [
    {
     "name": "stdout",
     "output_type": "stream",
     "text": [
      "success! total time:  856.0041120052338\n"
     ]
    }
   ],
   "source": [
    "t1=time.time()\n",
    "data = \"data.json\"\n",
    "create_edge_protein2organism(data)\n",
    "t2=time.time()\n",
    "print( \"success! total time: \", t2-t1)"
   ]
  },
  {
   "attachments": {},
   "cell_type": "markdown",
   "metadata": {},
   "source": [
    "### Reactome Update"
   ]
  },
  {
   "cell_type": "code",
   "execution_count": 41,
   "metadata": {},
   "outputs": [],
   "source": [
    "def create_pathway_node_small(data):\n",
    "        '''  \n",
    "        Create Pathway node in the graph\n",
    "         args:\n",
    "            data: dictionary containing the data for the node\n",
    "        returns:\n",
    "            None\n",
    "        '''\n",
    "        def tx_function(tx,data):\n",
    "            query = \"WITH '\" + data  + \"' as url \\\n",
    "            CALL apoc.load.json(url) YIELD value \\\n",
    "            MERGE (Pw:Pathway{ID:value.Pathway_identifier})\\\n",
    "            ON CREATE SET Pw.name=value.Pathway_name\"\n",
    "            \n",
    "            #print(query)\n",
    "            tx.run(query,data=data)\n",
    "        \n",
    "        with driver.session() as session:   \n",
    "            session.execute_write(tx_function,data)\n",
    "\n",
    "def create_pathway_node_large(data):\n",
    "        '''  \n",
    "        Create Pathway node in the graph\n",
    "         args:\n",
    "            data: dictionary containing the data for the node\n",
    "        returns:\n",
    "            None\n",
    "        '''\n",
    "        def tx_function(tx,data):\n",
    "            query = \"WITH '\" + data  + \"' as url \\\n",
    "            CALL apoc.load.json(url) YIELD value \\\n",
    "            MERGE (Pw:Pathway{ID:value.ID})\\\n",
    "            ON CREATE SET Pw.name=value.name\"\n",
    "            \n",
    "            #print(query)\n",
    "            tx.run(query,data=data)\n",
    "        \n",
    "        with driver.session() as session:   \n",
    "            session.execute_write(tx_function,data)"
   ]
  },
  {
   "cell_type": "code",
   "execution_count": 42,
   "metadata": {},
   "outputs": [
    {
     "name": "stdout",
     "output_type": "stream",
     "text": [
      "success! total time:  0.626776933670044\n"
     ]
    }
   ],
   "source": [
    "t1 = time.time()\n",
    "data = \"pathway-data-large.json\"\n",
    "create_pathway_node_large(data)\n",
    "t2 = time.time()\n",
    "print( \"success! total time: \", t2-t1)"
   ]
  },
  {
   "cell_type": "code",
   "execution_count": 44,
   "metadata": {},
   "outputs": [],
   "source": [
    "def create_edge_protein2pathway_small(data):\n",
    "        def tx_function(tx,data):\n",
    "            query = \"WITH '\" + data  + \"' as url \\\n",
    "            CALL apoc.load.json(url) YIELD value \\\n",
    "            MATCH (P {UID:value.Mapped_entities})\\\n",
    "            MATCH (Pw {ID:value.Pathway_identifier})\\\n",
    "            MERGE (P)-[:ASSOCIATED]->(Pw)\"\n",
    "\n",
    "            tx.run(query,data=data)\n",
    "        with driver.session() as session:   \n",
    "            session.execute_write(tx_function,data)\n",
    "\n",
    "def create_edge_protein2pathway_large(data):\n",
    "        def tx_function(tx,data):\n",
    "            query = \"WITH '\" + data  + \"' as url \\\n",
    "            CALL apoc.load.json(url) YIELD value \\\n",
    "            MATCH (P {UID:value.protein})\\\n",
    "            MATCH (Pw {ID:value.ID})\\\n",
    "            MERGE (P)-[:ASSOCIATED]->(Pw)\"\n",
    "\n",
    "            tx.run(query,data=data)\n",
    "        with driver.session() as session:   \n",
    "            session.execute_write(tx_function,data)"
   ]
  },
  {
   "cell_type": "code",
   "execution_count": 45,
   "metadata": {},
   "outputs": [
    {
     "name": "stdout",
     "output_type": "stream",
     "text": [
      "success! total time:  1380.0068852901459\n"
     ]
    }
   ],
   "source": [
    "t1 = time.time()\n",
    "data = \"pathway-data-large.json\"\n",
    "create_edge_protein2pathway_large(data)\n",
    "t2 = time.time()\n",
    "print( \"success! total time: \", t2-t1)"
   ]
  },
  {
   "attachments": {},
   "cell_type": "markdown",
   "metadata": {},
   "source": [
    "### Add PPI data"
   ]
  },
  {
   "cell_type": "code",
   "execution_count": 28,
   "metadata": {},
   "outputs": [],
   "source": [
    "def create_ppi_proteinA_node(data):\n",
    "        '''  \n",
    "        Create PPI protein node in the graph\n",
    "         args:\n",
    "            data: dictionary containing the data for the node\n",
    "        returns:\n",
    "            None\n",
    "        '''\n",
    "        def tx_function(tx,data):\n",
    "            query = \"WITH '\" + data  + \"' as url \\\n",
    "            CALL apoc.load.json(url) YIELD value \\\n",
    "            MERGE (P:Protein{UID:value.IDA})\\\n",
    "            ON CREATE SET P.molecule=value.Molecule_A\"\n",
    "            \n",
    "            #print(query)\n",
    "            tx.run(query,data=data)\n",
    "        \n",
    "        with driver.session() as session:   \n",
    "            session.execute_write(tx_function,data)\n",
    "\n",
    "\n",
    "def create_ppi_proteinB_node(data):\n",
    "        '''  \n",
    "        Create PPI protein node in the graph\n",
    "         args:\n",
    "            data: dictionary containing the data for the node\n",
    "        returns:\n",
    "            None\n",
    "        '''\n",
    "        def tx_function(tx,data):\n",
    "            query = \"WITH '\" + data  + \"' as url \\\n",
    "            CALL apoc.load.json(url) YIELD value \\\n",
    "            MERGE (P:Protein{UID:value.IDA})\\\n",
    "            ON CREATE SET P.molecule=value.Molecule_B\"\n",
    "            \n",
    "            #print(query)\n",
    "            tx.run(query,data=data)\n",
    "        \n",
    "        with driver.session() as session:   \n",
    "            session.execute_write(tx_function,data)"
   ]
  },
  {
   "cell_type": "code",
   "execution_count": 29,
   "metadata": {},
   "outputs": [
    {
     "name": "stdout",
     "output_type": "stream",
     "text": [
      "success! total time:  0.06410813331604004\n"
     ]
    }
   ],
   "source": [
    "t1 = time.time()\n",
    "data = \"ppi.json\"\n",
    "create_ppi_proteinA_node(data)\n",
    "t2 = time.time()\n",
    "print( \"success! total time: \", t2-t1)"
   ]
  },
  {
   "cell_type": "code",
   "execution_count": 30,
   "metadata": {},
   "outputs": [
    {
     "name": "stdout",
     "output_type": "stream",
     "text": [
      "success! total time:  0.016520977020263672\n"
     ]
    }
   ],
   "source": [
    "t1 = time.time()\n",
    "data = \"ppi.json\"\n",
    "create_ppi_proteinB_node(data)\n",
    "t2 = time.time()\n",
    "print( \"success! total time: \", t2-t1)"
   ]
  },
  {
   "cell_type": "code",
   "execution_count": 31,
   "metadata": {},
   "outputs": [],
   "source": [
    "def create_edge_ppi(data):\n",
    "        def tx_function(tx,data):\n",
    "            query = \"WITH '\" + data  + \"' as url \\\n",
    "            CALL apoc.load.json(url) YIELD value \\\n",
    "            MATCH (PA:Protein {UID:value.IDA})\\\n",
    "            MATCH (PB:Protein {UID:value.IDB})\\\n",
    "            MERGE (PA)-[:HAS_PPI_INTERACTION]->(PB)\"\n",
    "\n",
    "            tx.run(query,data=data)\n",
    "        with driver.session() as session:   \n",
    "            session.execute_write(tx_function,data)"
   ]
  },
  {
   "cell_type": "code",
   "execution_count": 32,
   "metadata": {},
   "outputs": [
    {
     "name": "stdout",
     "output_type": "stream",
     "text": [
      "success! total time:  0.03675699234008789\n"
     ]
    }
   ],
   "source": [
    "t1 = time.time()\n",
    "data = \"ppi.json\"\n",
    "create_edge_ppi(data)\n",
    "t2 = time.time()\n",
    "print( \"success! total time: \", t2-t1)"
   ]
  },
  {
   "attachments": {},
   "cell_type": "markdown",
   "metadata": {},
   "source": [
    "### References"
   ]
  },
  {
   "attachments": {},
   "cell_type": "markdown",
   "metadata": {},
   "source": [
    "https://neo4j.com/docs/cypher-cheat-sheet/current/"
   ]
  },
  {
   "attachments": {},
   "cell_type": "markdown",
   "metadata": {},
   "source": [
    "Link Prediction"
   ]
  },
  {
   "cell_type": "code",
   "execution_count": 7,
   "metadata": {},
   "outputs": [
    {
     "data": {
      "text/plain": [
       "(15455, 1)"
      ]
     },
     "execution_count": 7,
     "metadata": {},
     "output_type": "execute_result"
    }
   ],
   "source": [
    "query = \"MATCH (P:Protein) RETURN P.UID\"\n",
    "\n",
    "res = []\n",
    "with driver.session() as session:\n",
    "    info = session.run(query)\n",
    "    for item in info:\n",
    "        res.append({\"ID\":item.values()[0]})\n",
    "df2 = pd.DataFrame(res)\n",
    "df2.shape"
   ]
  },
  {
   "cell_type": "code",
   "execution_count": 8,
   "metadata": {},
   "outputs": [
    {
     "data": {
      "text/plain": [
       "'Q61598'"
      ]
     },
     "execution_count": 8,
     "metadata": {},
     "output_type": "execute_result"
    }
   ],
   "source": [
    "df2['ID'][0]"
   ]
  },
  {
   "cell_type": "code",
   "execution_count": 9,
   "metadata": {},
   "outputs": [
    {
     "data": {
      "text/plain": [
       "(13, 1)"
      ]
     },
     "execution_count": 9,
     "metadata": {},
     "output_type": "execute_result"
    }
   ],
   "source": [
    "query = \"MATCH (PTM:PTM_Type) RETURN PTM.name\"\n",
    "\n",
    "res = []\n",
    "with driver.session() as session:\n",
    "    info = session.run(query)\n",
    "    for item in info:\n",
    "        res.append({\"name\":item.values()[0]})\n",
    "df1 = pd.DataFrame(res)\n",
    "df1.shape"
   ]
  },
  {
   "cell_type": "code",
   "execution_count": 10,
   "metadata": {},
   "outputs": [
    {
     "data": {
      "text/plain": [
       "'S-nitrosylation'"
      ]
     },
     "execution_count": 10,
     "metadata": {},
     "output_type": "execute_result"
    }
   ],
   "source": [
    "df1['name'][0]"
   ]
  },
  {
   "cell_type": "code",
   "execution_count": 11,
   "metadata": {},
   "outputs": [],
   "source": [
    "res = []\n",
    "\n",
    "for p in df2[\"ID\"]:\n",
    "    for ptm in df1[\"name\"]:\n",
    "    \n",
    "        query = \"MATCH (P:Protein {UID: '\" + p + \"'}) \\\n",
    "        MATCH (PTM:PTM_Type {name: '\" + ptm + \"'}) \\\n",
    "        RETURN gds.alpha.linkprediction.totalNeighbors(P, PTM, \\\n",
    "        {relationshipQuery: null})\\\n",
    "        AS Score, P.UID AS protein, PTM.name AS ptm_type\"\n",
    "\n",
    "        with driver.session() as session:\n",
    "            info = session.run(query)\n",
    "            for item in info:\n",
    "                res.append({\"Protein\":item.values()[1], \n",
    "                            \"PTM\":item.values()[2],\n",
    "                            \"Score\":item.values()[0]})"
   ]
  },
  {
   "cell_type": "code",
   "execution_count": 12,
   "metadata": {},
   "outputs": [
    {
     "data": {
      "text/html": [
       "<div>\n",
       "<style scoped>\n",
       "    .dataframe tbody tr th:only-of-type {\n",
       "        vertical-align: middle;\n",
       "    }\n",
       "\n",
       "    .dataframe tbody tr th {\n",
       "        vertical-align: top;\n",
       "    }\n",
       "\n",
       "    .dataframe thead th {\n",
       "        text-align: right;\n",
       "    }\n",
       "</style>\n",
       "<table border=\"1\" class=\"dataframe\">\n",
       "  <thead>\n",
       "    <tr style=\"text-align: right;\">\n",
       "      <th></th>\n",
       "      <th>Protein</th>\n",
       "      <th>PTM</th>\n",
       "      <th>Score</th>\n",
       "    </tr>\n",
       "  </thead>\n",
       "  <tbody>\n",
       "    <tr>\n",
       "      <th>37114</th>\n",
       "      <td>P49327</td>\n",
       "      <td>S-oxidation(nec.)</td>\n",
       "      <td>8278.0</td>\n",
       "    </tr>\n",
       "    <tr>\n",
       "      <th>37283</th>\n",
       "      <td>P04406</td>\n",
       "      <td>S-oxidation(nec.)</td>\n",
       "      <td>8276.0</td>\n",
       "    </tr>\n",
       "    <tr>\n",
       "      <th>37348</th>\n",
       "      <td>P10809</td>\n",
       "      <td>S-oxidation(nec.)</td>\n",
       "      <td>8276.0</td>\n",
       "    </tr>\n",
       "    <tr>\n",
       "      <th>37335</th>\n",
       "      <td>P21333</td>\n",
       "      <td>S-oxidation(nec.)</td>\n",
       "      <td>8276.0</td>\n",
       "    </tr>\n",
       "    <tr>\n",
       "      <th>41092</th>\n",
       "      <td>P46782</td>\n",
       "      <td>S-oxidation(nec.)</td>\n",
       "      <td>8275.0</td>\n",
       "    </tr>\n",
       "    <tr>\n",
       "      <th>37218</th>\n",
       "      <td>P13639</td>\n",
       "      <td>S-oxidation(nec.)</td>\n",
       "      <td>8274.0</td>\n",
       "    </tr>\n",
       "    <tr>\n",
       "      <th>37309</th>\n",
       "      <td>P23528</td>\n",
       "      <td>S-oxidation(nec.)</td>\n",
       "      <td>8273.0</td>\n",
       "    </tr>\n",
       "    <tr>\n",
       "      <th>40884</th>\n",
       "      <td>Q15365</td>\n",
       "      <td>S-oxidation(nec.)</td>\n",
       "      <td>8273.0</td>\n",
       "    </tr>\n",
       "    <tr>\n",
       "      <th>37140</th>\n",
       "      <td>P26641</td>\n",
       "      <td>S-oxidation(nec.)</td>\n",
       "      <td>8273.0</td>\n",
       "    </tr>\n",
       "    <tr>\n",
       "      <th>36984</th>\n",
       "      <td>P61247</td>\n",
       "      <td>S-oxidation(nec.)</td>\n",
       "      <td>8273.0</td>\n",
       "    </tr>\n",
       "    <tr>\n",
       "      <th>36958</th>\n",
       "      <td>Q00839</td>\n",
       "      <td>S-oxidation(nec.)</td>\n",
       "      <td>8273.0</td>\n",
       "    </tr>\n",
       "    <tr>\n",
       "      <th>37088</th>\n",
       "      <td>P55060</td>\n",
       "      <td>S-oxidation(nec.)</td>\n",
       "      <td>8272.0</td>\n",
       "    </tr>\n",
       "    <tr>\n",
       "      <th>37322</th>\n",
       "      <td>P22314</td>\n",
       "      <td>S-oxidation(nec.)</td>\n",
       "      <td>8272.0</td>\n",
       "    </tr>\n",
       "    <tr>\n",
       "      <th>37660</th>\n",
       "      <td>Q00610</td>\n",
       "      <td>S-oxidation(nec.)</td>\n",
       "      <td>8272.0</td>\n",
       "    </tr>\n",
       "    <tr>\n",
       "      <th>37205</th>\n",
       "      <td>P13797</td>\n",
       "      <td>S-oxidation(nec.)</td>\n",
       "      <td>8272.0</td>\n",
       "    </tr>\n",
       "  </tbody>\n",
       "</table>\n",
       "</div>"
      ],
      "text/plain": [
       "      Protein                PTM   Score\n",
       "37114  P49327  S-oxidation(nec.)  8278.0\n",
       "37283  P04406  S-oxidation(nec.)  8276.0\n",
       "37348  P10809  S-oxidation(nec.)  8276.0\n",
       "37335  P21333  S-oxidation(nec.)  8276.0\n",
       "41092  P46782  S-oxidation(nec.)  8275.0\n",
       "37218  P13639  S-oxidation(nec.)  8274.0\n",
       "37309  P23528  S-oxidation(nec.)  8273.0\n",
       "40884  Q15365  S-oxidation(nec.)  8273.0\n",
       "37140  P26641  S-oxidation(nec.)  8273.0\n",
       "36984  P61247  S-oxidation(nec.)  8273.0\n",
       "36958  Q00839  S-oxidation(nec.)  8273.0\n",
       "37088  P55060  S-oxidation(nec.)  8272.0\n",
       "37322  P22314  S-oxidation(nec.)  8272.0\n",
       "37660  Q00610  S-oxidation(nec.)  8272.0\n",
       "37205  P13797  S-oxidation(nec.)  8272.0"
      ]
     },
     "execution_count": 12,
     "metadata": {},
     "output_type": "execute_result"
    }
   ],
   "source": [
    "df_res = pd.DataFrame(res)\n",
    "df_res = df_res.sort_values(\"Score\", ascending = False)\n",
    "df_res.head(15)"
   ]
  },
  {
   "cell_type": "code",
   "execution_count": 13,
   "metadata": {},
   "outputs": [],
   "source": [
    "df_res.to_csv(\"res.csv\", index = False)"
   ]
  },
  {
   "cell_type": "code",
   "execution_count": 32,
   "metadata": {},
   "outputs": [
    {
     "data": {
      "text/plain": [
       "(200915, 3)"
      ]
     },
     "execution_count": 32,
     "metadata": {},
     "output_type": "execute_result"
    }
   ],
   "source": [
    "df_res.shape"
   ]
  },
  {
   "cell_type": "code",
   "execution_count": 33,
   "metadata": {},
   "outputs": [
    {
     "data": {
      "text/html": [
       "<div>\n",
       "<style scoped>\n",
       "    .dataframe tbody tr th:only-of-type {\n",
       "        vertical-align: middle;\n",
       "    }\n",
       "\n",
       "    .dataframe tbody tr th {\n",
       "        vertical-align: top;\n",
       "    }\n",
       "\n",
       "    .dataframe thead th {\n",
       "        text-align: right;\n",
       "    }\n",
       "</style>\n",
       "<table border=\"1\" class=\"dataframe\">\n",
       "  <thead>\n",
       "    <tr style=\"text-align: right;\">\n",
       "      <th></th>\n",
       "      <th>S-glutathionylation</th>\n",
       "      <th>S-oxidation(nec.)</th>\n",
       "      <th>S-succination</th>\n",
       "      <th>S-carbonylation</th>\n",
       "      <th>S-prenylation</th>\n",
       "      <th>S-palmitoylation</th>\n",
       "      <th>S-nitrosylation</th>\n",
       "      <th>S-sulfenylation</th>\n",
       "      <th>S-sulfonylation</th>\n",
       "      <th>S-sulfinylation</th>\n",
       "      <th>S-disulfidation</th>\n",
       "      <th>S-itaconation</th>\n",
       "      <th>S-persulfidation</th>\n",
       "    </tr>\n",
       "    <tr>\n",
       "      <th>Protein</th>\n",
       "      <th></th>\n",
       "      <th></th>\n",
       "      <th></th>\n",
       "      <th></th>\n",
       "      <th></th>\n",
       "      <th></th>\n",
       "      <th></th>\n",
       "      <th></th>\n",
       "      <th></th>\n",
       "      <th></th>\n",
       "      <th></th>\n",
       "      <th></th>\n",
       "      <th></th>\n",
       "    </tr>\n",
       "  </thead>\n",
       "  <tbody>\n",
       "    <tr>\n",
       "      <th>M0R2D3</th>\n",
       "      <td>2984.0</td>\n",
       "      <td>8251.0</td>\n",
       "      <td>882.0</td>\n",
       "      <td>448.0</td>\n",
       "      <td>77.0</td>\n",
       "      <td>3151.0</td>\n",
       "      <td>4634.0</td>\n",
       "      <td>1893.0</td>\n",
       "      <td>71.0</td>\n",
       "      <td>366.0</td>\n",
       "      <td>257.0</td>\n",
       "      <td>862.0</td>\n",
       "      <td>1480.0</td>\n",
       "    </tr>\n",
       "    <tr>\n",
       "      <th>O54824</th>\n",
       "      <td>2983.0</td>\n",
       "      <td>8248.0</td>\n",
       "      <td>882.0</td>\n",
       "      <td>449.0</td>\n",
       "      <td>78.0</td>\n",
       "      <td>3153.0</td>\n",
       "      <td>4635.0</td>\n",
       "      <td>1896.0</td>\n",
       "      <td>71.0</td>\n",
       "      <td>367.0</td>\n",
       "      <td>258.0</td>\n",
       "      <td>859.0</td>\n",
       "      <td>1480.0</td>\n",
       "    </tr>\n",
       "    <tr>\n",
       "      <th>B4E2Q0</th>\n",
       "      <td>2981.0</td>\n",
       "      <td>8248.0</td>\n",
       "      <td>879.0</td>\n",
       "      <td>445.0</td>\n",
       "      <td>74.0</td>\n",
       "      <td>3148.0</td>\n",
       "      <td>4631.0</td>\n",
       "      <td>1892.0</td>\n",
       "      <td>68.0</td>\n",
       "      <td>363.0</td>\n",
       "      <td>254.0</td>\n",
       "      <td>859.0</td>\n",
       "      <td>1477.0</td>\n",
       "    </tr>\n",
       "    <tr>\n",
       "      <th>Q60649</th>\n",
       "      <td>2983.0</td>\n",
       "      <td>8248.0</td>\n",
       "      <td>882.0</td>\n",
       "      <td>449.0</td>\n",
       "      <td>78.0</td>\n",
       "      <td>3151.0</td>\n",
       "      <td>4635.0</td>\n",
       "      <td>1896.0</td>\n",
       "      <td>71.0</td>\n",
       "      <td>367.0</td>\n",
       "      <td>258.0</td>\n",
       "      <td>861.0</td>\n",
       "      <td>1480.0</td>\n",
       "    </tr>\n",
       "    <tr>\n",
       "      <th>Q96MU7</th>\n",
       "      <td>2981.0</td>\n",
       "      <td>8248.0</td>\n",
       "      <td>879.0</td>\n",
       "      <td>445.0</td>\n",
       "      <td>74.0</td>\n",
       "      <td>3149.0</td>\n",
       "      <td>4630.0</td>\n",
       "      <td>1892.0</td>\n",
       "      <td>68.0</td>\n",
       "      <td>363.0</td>\n",
       "      <td>254.0</td>\n",
       "      <td>859.0</td>\n",
       "      <td>1477.0</td>\n",
       "    </tr>\n",
       "  </tbody>\n",
       "</table>\n",
       "</div>"
      ],
      "text/plain": [
       "         S-glutathionylation  S-oxidation(nec.)  S-succination  \\\n",
       "Protein                                                          \n",
       "M0R2D3                2984.0             8251.0          882.0   \n",
       "O54824                2983.0             8248.0          882.0   \n",
       "B4E2Q0                2981.0             8248.0          879.0   \n",
       "Q60649                2983.0             8248.0          882.0   \n",
       "Q96MU7                2981.0             8248.0          879.0   \n",
       "\n",
       "         S-carbonylation  S-prenylation  S-palmitoylation  S-nitrosylation  \\\n",
       "Protein                                                                      \n",
       "M0R2D3             448.0           77.0            3151.0           4634.0   \n",
       "O54824             449.0           78.0            3153.0           4635.0   \n",
       "B4E2Q0             445.0           74.0            3148.0           4631.0   \n",
       "Q60649             449.0           78.0            3151.0           4635.0   \n",
       "Q96MU7             445.0           74.0            3149.0           4630.0   \n",
       "\n",
       "         S-sulfenylation  S-sulfonylation  S-sulfinylation  S-disulfidation  \\\n",
       "Protein                                                                       \n",
       "M0R2D3            1893.0             71.0            366.0            257.0   \n",
       "O54824            1896.0             71.0            367.0            258.0   \n",
       "B4E2Q0            1892.0             68.0            363.0            254.0   \n",
       "Q60649            1896.0             71.0            367.0            258.0   \n",
       "Q96MU7            1892.0             68.0            363.0            254.0   \n",
       "\n",
       "         S-itaconation  S-persulfidation  \n",
       "Protein                                   \n",
       "M0R2D3           862.0            1480.0  \n",
       "O54824           859.0            1480.0  \n",
       "B4E2Q0           859.0            1477.0  \n",
       "Q60649           861.0            1480.0  \n",
       "Q96MU7           859.0            1477.0  "
      ]
     },
     "execution_count": 33,
     "metadata": {},
     "output_type": "execute_result"
    }
   ],
   "source": [
    "mapping = {}\n",
    "for p,ptm,score in zip(df_res['Protein'],df_res['PTM'],df_res['Score']):\n",
    "    mapping.update({p+\":\"+ptm:score})\n",
    "\n",
    "\n",
    "Protein = list(set(df_res['Protein']))\n",
    "PTM = list(set(df_res['PTM']))\n",
    "DATA = []\n",
    "for p in Protein:\n",
    "    data =  {}\n",
    "    data.update({\"Protein\": p})\n",
    "    for ptm in PTM:\n",
    "        data.update({ptm:mapping[p+\":\"+ptm]})\n",
    "    DATA.append(data)\n",
    "    \n",
    "df = pd.DataFrame(DATA)\n",
    "df = df.set_index(\"Protein\")\n",
    "df.head()"
   ]
  },
  {
   "cell_type": "code",
   "execution_count": 34,
   "metadata": {},
   "outputs": [
    {
     "data": {
      "text/plain": [
       "<AxesSubplot:ylabel='Protein'>"
      ]
     },
     "execution_count": 34,
     "metadata": {},
     "output_type": "execute_result"
    },
    {
     "data": {
      "image/png": "[encoded data removed]",
      "text/plain": [
       "<Figure size 1000x1000 with 2 Axes>"
      ]
     },
     "metadata": {},
     "output_type": "display_data"
    }
   ],
   "source": [
    "import matplotlib.pyplot as plt\n",
    "df = df/df.max()\n",
    "plt.figure(figsize = [10,10])\n",
    "sns.heatmap(df[0:10],cmap=\"YlGnBu\", linewidths=.5)"
   ]
  },
  {
   "cell_type": "code",
   "execution_count": 35,
   "metadata": {},
   "outputs": [
    {
     "data": {
      "text/plain": [
       "(15455, 13)"
      ]
     },
     "execution_count": 35,
     "metadata": {},
     "output_type": "execute_result"
    }
   ],
   "source": [
    "df.shape"
   ]
  },
  {
   "cell_type": "code",
   "execution_count": 38,
   "metadata": {},
   "outputs": [
    {
     "data": {
      "text/plain": [
       "<AxesSubplot:>"
      ]
     },
     "execution_count": 38,
     "metadata": {},
     "output_type": "execute_result"
    },
    {
     "data": {
      "image/png": "[encoded data removed]",
      "text/plain": [
       "<Figure size 640x480 with 1 Axes>"
      ]
     },
     "metadata": {},
     "output_type": "display_data"
    }
   ],
   "source": [
    "df.loc[\"P12235\",:].plot.bar()"
   ]
  }
 ],
 "metadata": {
  "kernelspec": {
   "display_name": "base",
   "language": "python",
   "name": "python3"
  },
  "language_info": {
   "codemirror_mode": {
    "name": "ipython",
    "version": 3
   },
   "file_extension": ".py",
   "mimetype": "text/x-python",
   "name": "python",
   "nbconvert_exporter": "python",
   "pygments_lexer": "ipython3",
   "version": "3.9.13"
  },
  "vscode": {
   "interpreter": {
    "hash": "a46d3808ce7f3f92d20203132b60af20d084112e7b3027b56a392bdfd2bca4cb"
   }
  }
 },
 "nbformat": 4,
 "nbformat_minor": 2
}
