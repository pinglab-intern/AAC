{
 "cells": [
  {
   "attachments": {},
   "cell_type": "markdown",
   "id": "b8e4608a",
   "metadata": {},
   "source": [
    "### Data Engineering : PPI"
   ]
  },
  {
   "cell_type": "code",
   "execution_count": 58,
   "id": "8ff0ab9d",
   "metadata": {},
   "outputs": [],
   "source": [
    "import pandas as pd\n",
    "import json as json"
   ]
  },
  {
   "cell_type": "code",
   "execution_count": 79,
   "id": "fa9d1a84",
   "metadata": {},
   "outputs": [],
   "source": [
    "# read in the data\n",
    "\n",
    "df1 = pd.read_csv(\"P05141.csv\")\n",
    "df2 = pd.read_csv(\"P12235.csv\")\n",
    "df = pd.concat([df1, df2])"
   ]
  },
  {
   "cell_type": "code",
   "execution_count": 80,
   "id": "8a73c7ba",
   "metadata": {},
   "outputs": [
    {
     "data": {
      "text/html": [
       "<div>\n",
       "<style scoped>\n",
       "    .dataframe tbody tr th:only-of-type {\n",
       "        vertical-align: middle;\n",
       "    }\n",
       "\n",
       "    .dataframe tbody tr th {\n",
       "        vertical-align: top;\n",
       "    }\n",
       "\n",
       "    .dataframe thead th {\n",
       "        text-align: right;\n",
       "    }\n",
       "</style>\n",
       "<table border=\"1\" class=\"dataframe\">\n",
       "  <thead>\n",
       "    <tr style=\"text-align: right;\">\n",
       "      <th></th>\n",
       "      <th>Molecule_A</th>\n",
       "      <th>Molecule_B</th>\n",
       "      <th>Identifier_A</th>\n",
       "      <th>Identifier_B</th>\n",
       "      <th>Type_A</th>\n",
       "      <th>Type_B</th>\n",
       "      <th>Species_A</th>\n",
       "      <th>Species_B</th>\n",
       "      <th>Host_Organism</th>\n",
       "      <th>Positive_interaction</th>\n",
       "      <th>Detection_Method</th>\n",
       "      <th>Publication_IDs</th>\n",
       "      <th>Interaction_Type</th>\n",
       "      <th>Interaction_AC</th>\n",
       "      <th>Confidence_Value</th>\n",
       "      <th>Expansion_Method</th>\n",
       "      <th>Aliases_A</th>\n",
       "      <th>Aliases_B</th>\n",
       "      <th>Feature_count</th>\n",
       "      <th>Interaction_Annotations</th>\n",
       "    </tr>\n",
       "  </thead>\n",
       "  <tbody>\n",
       "    <tr>\n",
       "      <th>0</th>\n",
       "      <td>LRRK2</td>\n",
       "      <td>SLC25A5</td>\n",
       "      <td>UniProtQ5S007</td>\n",
       "      <td>UniProtP05141</td>\n",
       "      <td>protein</td>\n",
       "      <td>protein</td>\n",
       "      <td>Homo sapiens</td>\n",
       "      <td>Homo sapiens</td>\n",
       "      <td>Homo sapiens transformed primary embryonal kid...</td>\n",
       "      <td>✔️</td>\n",
       "      <td>anti tag coip</td>\n",
       "      <td>21370995</td>\n",
       "      <td>physical association</td>\n",
       "      <td>EBI-6290098</td>\n",
       "      <td>MI Score:0.56</td>\n",
       "      <td>NaN</td>\n",
       "      <td>gene name synonymPARK8\\ngene nameLRRK2\\n\\nShow...</td>\n",
       "      <td>gene name synonymADP,ATP carrier protein 2\\nge...</td>\n",
       "      <td>3.0</td>\n",
       "      <td>figure legendFig 1c</td>\n",
       "    </tr>\n",
       "  </tbody>\n",
       "</table>\n",
       "</div>"
      ],
      "text/plain": [
       "  Molecule_A Molecule_B   Identifier_A   Identifier_B   Type_A   Type_B  \\\n",
       "0      LRRK2    SLC25A5  UniProtQ5S007  UniProtP05141  protein  protein   \n",
       "\n",
       "      Species_A     Species_B  \\\n",
       "0  Homo sapiens  Homo sapiens   \n",
       "\n",
       "                                       Host_Organism Positive_interaction  \\\n",
       "0  Homo sapiens transformed primary embryonal kid...                   ✔️   \n",
       "\n",
       "  Detection_Method Publication_IDs      Interaction_Type Interaction_AC  \\\n",
       "0    anti tag coip        21370995  physical association    EBI-6290098   \n",
       "\n",
       "  Confidence_Value Expansion_Method  \\\n",
       "0    MI Score:0.56              NaN   \n",
       "\n",
       "                                           Aliases_A  \\\n",
       "0  gene name synonymPARK8\\ngene nameLRRK2\\n\\nShow...   \n",
       "\n",
       "                                           Aliases_B  Feature_count  \\\n",
       "0  gene name synonymADP,ATP carrier protein 2\\nge...            3.0   \n",
       "\n",
       "  Interaction_Annotations  \n",
       "0     figure legendFig 1c  "
      ]
     },
     "execution_count": 80,
     "metadata": {},
     "output_type": "execute_result"
    }
   ],
   "source": [
    "df.head(1)"
   ]
  },
  {
   "cell_type": "code",
   "execution_count": 81,
   "id": "bef1ae6e",
   "metadata": {},
   "outputs": [
    {
     "data": {
      "text/plain": [
       "(384, 20)"
      ]
     },
     "execution_count": 81,
     "metadata": {},
     "output_type": "execute_result"
    }
   ],
   "source": [
    "df.shape"
   ]
  },
  {
   "cell_type": "code",
   "execution_count": 83,
   "id": "21807a5f",
   "metadata": {},
   "outputs": [],
   "source": [
    "df['IDA'] = df['Identifier_A'].astype(str).apply(lambda x: x[7:])\n",
    "df['IDB'] = df['Identifier_B'].astype(str).apply(lambda x: x[7:])"
   ]
  },
  {
   "cell_type": "code",
   "execution_count": 84,
   "id": "501e6c88",
   "metadata": {},
   "outputs": [
    {
     "data": {
      "text/html": [
       "<div>\n",
       "<style scoped>\n",
       "    .dataframe tbody tr th:only-of-type {\n",
       "        vertical-align: middle;\n",
       "    }\n",
       "\n",
       "    .dataframe tbody tr th {\n",
       "        vertical-align: top;\n",
       "    }\n",
       "\n",
       "    .dataframe thead th {\n",
       "        text-align: right;\n",
       "    }\n",
       "</style>\n",
       "<table border=\"1\" class=\"dataframe\">\n",
       "  <thead>\n",
       "    <tr style=\"text-align: right;\">\n",
       "      <th></th>\n",
       "      <th>Molecule_A</th>\n",
       "      <th>Molecule_B</th>\n",
       "      <th>Identifier_A</th>\n",
       "      <th>Identifier_B</th>\n",
       "      <th>Type_A</th>\n",
       "      <th>Type_B</th>\n",
       "      <th>Species_A</th>\n",
       "      <th>Species_B</th>\n",
       "      <th>Host_Organism</th>\n",
       "      <th>Positive_interaction</th>\n",
       "      <th>...</th>\n",
       "      <th>Interaction_Type</th>\n",
       "      <th>Interaction_AC</th>\n",
       "      <th>Confidence_Value</th>\n",
       "      <th>Expansion_Method</th>\n",
       "      <th>Aliases_A</th>\n",
       "      <th>Aliases_B</th>\n",
       "      <th>Feature_count</th>\n",
       "      <th>Interaction_Annotations</th>\n",
       "      <th>IDA</th>\n",
       "      <th>IDB</th>\n",
       "    </tr>\n",
       "  </thead>\n",
       "  <tbody>\n",
       "    <tr>\n",
       "      <th>0</th>\n",
       "      <td>LRRK2</td>\n",
       "      <td>SLC25A5</td>\n",
       "      <td>UniProtQ5S007</td>\n",
       "      <td>UniProtP05141</td>\n",
       "      <td>protein</td>\n",
       "      <td>protein</td>\n",
       "      <td>Homo sapiens</td>\n",
       "      <td>Homo sapiens</td>\n",
       "      <td>Homo sapiens transformed primary embryonal kid...</td>\n",
       "      <td>✔️</td>\n",
       "      <td>...</td>\n",
       "      <td>physical association</td>\n",
       "      <td>EBI-6290098</td>\n",
       "      <td>MI Score:0.56</td>\n",
       "      <td>NaN</td>\n",
       "      <td>gene name synonymPARK8\\ngene nameLRRK2\\n\\nShow...</td>\n",
       "      <td>gene name synonymADP,ATP carrier protein 2\\nge...</td>\n",
       "      <td>3.0</td>\n",
       "      <td>figure legendFig 1c</td>\n",
       "      <td>Q5S007</td>\n",
       "      <td>P05141</td>\n",
       "    </tr>\n",
       "  </tbody>\n",
       "</table>\n",
       "<p>1 rows × 22 columns</p>\n",
       "</div>"
      ],
      "text/plain": [
       "  Molecule_A Molecule_B   Identifier_A   Identifier_B   Type_A   Type_B  \\\n",
       "0      LRRK2    SLC25A5  UniProtQ5S007  UniProtP05141  protein  protein   \n",
       "\n",
       "      Species_A     Species_B  \\\n",
       "0  Homo sapiens  Homo sapiens   \n",
       "\n",
       "                                       Host_Organism Positive_interaction  \\\n",
       "0  Homo sapiens transformed primary embryonal kid...                   ✔️   \n",
       "\n",
       "   ...      Interaction_Type Interaction_AC Confidence_Value Expansion_Method  \\\n",
       "0  ...  physical association    EBI-6290098    MI Score:0.56              NaN   \n",
       "\n",
       "                                           Aliases_A  \\\n",
       "0  gene name synonymPARK8\\ngene nameLRRK2\\n\\nShow...   \n",
       "\n",
       "                                           Aliases_B Feature_count  \\\n",
       "0  gene name synonymADP,ATP carrier protein 2\\nge...           3.0   \n",
       "\n",
       "  Interaction_Annotations     IDA     IDB  \n",
       "0     figure legendFig 1c  Q5S007  P05141  \n",
       "\n",
       "[1 rows x 22 columns]"
      ]
     },
     "execution_count": 84,
     "metadata": {},
     "output_type": "execute_result"
    }
   ],
   "source": [
    "df.head(1)"
   ]
  },
  {
   "cell_type": "code",
   "execution_count": 85,
   "id": "9cce379c",
   "metadata": {},
   "outputs": [
    {
     "data": {
      "text/plain": [
       "(384, 22)"
      ]
     },
     "execution_count": 85,
     "metadata": {},
     "output_type": "execute_result"
    }
   ],
   "source": [
    "df.shape"
   ]
  },
  {
   "cell_type": "code",
   "execution_count": 86,
   "id": "c4e8abef",
   "metadata": {},
   "outputs": [],
   "source": [
    "# here we convert data frame to dictionary\n",
    "cnames=df.columns.tolist()\n",
    "DATA =[]\n",
    "for row in df.iterrows():\n",
    "    d = dict(zip(cnames, row[1].tolist()))\n",
    "    #print(json.dumps(d))\n",
    "    DATA.append(d)\n",
    "    #break\n"
   ]
  },
  {
   "cell_type": "code",
   "execution_count": 87,
   "id": "bb87821d",
   "metadata": {},
   "outputs": [],
   "source": [
    "with open('ppi.json', 'w') as outfile:\n",
    "    json.dump(DATA, outfile)"
   ]
  },
  {
   "cell_type": "code",
   "execution_count": null,
   "id": "6b400183",
   "metadata": {},
   "outputs": [],
   "source": []
  },
  {
   "cell_type": "code",
   "execution_count": null,
   "id": "28b6e35d",
   "metadata": {},
   "outputs": [],
   "source": []
  },
  {
   "cell_type": "code",
   "execution_count": null,
   "id": "1c7b6039",
   "metadata": {},
   "outputs": [],
   "source": []
  },
  {
   "cell_type": "code",
   "execution_count": null,
   "id": "2a8b3eb2",
   "metadata": {},
   "outputs": [],
   "source": []
  },
  {
   "cell_type": "code",
   "execution_count": null,
   "id": "ce71e6bc",
   "metadata": {},
   "outputs": [],
   "source": []
  },
  {
   "cell_type": "code",
   "execution_count": 69,
   "id": "a6c00081",
   "metadata": {},
   "outputs": [],
   "source": [
    "df_dict = df.to_dict(orient='records')"
   ]
  },
  {
   "cell_type": "code",
   "execution_count": 70,
   "id": "8a0628d9",
   "metadata": {},
   "outputs": [
    {
     "data": {
      "text/plain": [
       "{'Molecule_A': 'LRRK2',\n",
       " 'Molecule_B': 'SLC25A5',\n",
       " 'Identifier_A': 'UniProtQ5S007',\n",
       " 'Identifier_B': 'UniProtP05141',\n",
       " 'Type_A': 'protein',\n",
       " 'Type_B': 'protein',\n",
       " 'Species_A': 'Homo sapiens',\n",
       " 'Species_B': 'Homo sapiens',\n",
       " 'Host_Organism': 'Homo sapiens transformed primary embryonal kidney cells',\n",
       " 'Positive_interaction': '✔️',\n",
       " 'Detection_Method': 'anti tag coip',\n",
       " 'Publication_IDs': '21370995',\n",
       " 'Interaction_Type': 'physical association',\n",
       " 'Interaction_AC': 'EBI-6290098',\n",
       " 'Confidence_Value': 'MI Score:0.56',\n",
       " 'Expansion_Method': nan,\n",
       " 'Aliases_A': 'gene name synonymPARK8\\ngene nameLRRK2\\n\\nShow more (1)',\n",
       " 'Aliases_B': 'gene name synonymADP,ATP carrier protein 2\\ngene name synonymAdenine nucleotide translocator 2\\n\\nShow more (5)',\n",
       " 'Feature_count': 3.0,\n",
       " 'Interaction_Annotations': 'figure legendFig 1c',\n",
       " 'IDA': 'Q5S007',\n",
       " 'IDB': 'P05141'}"
      ]
     },
     "execution_count": 70,
     "metadata": {},
     "output_type": "execute_result"
    }
   ],
   "source": [
    "df_dict[0]"
   ]
  },
  {
   "cell_type": "code",
   "execution_count": 71,
   "id": "edfb68d4",
   "metadata": {},
   "outputs": [],
   "source": [
    "with open('ppi.json', 'w') as outfile:\n",
    "    json.dump(json_data, outfile)"
   ]
  },
  {
   "cell_type": "code",
   "execution_count": null,
   "id": "f1a2bf31",
   "metadata": {},
   "outputs": [],
   "source": []
  }
 ],
 "metadata": {
  "kernelspec": {
   "display_name": "Python 3 (ipykernel)",
   "language": "python",
   "name": "python3"
  },
  "language_info": {
   "codemirror_mode": {
    "name": "ipython",
    "version": 3
   },
   "file_extension": ".py",
   "mimetype": "text/x-python",
   "name": "python",
   "nbconvert_exporter": "python",
   "pygments_lexer": "ipython3",
   "version": "3.9.13"
  }
 },
 "nbformat": 4,
 "nbformat_minor": 5
}
